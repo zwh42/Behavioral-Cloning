{
 "cells": [
  {
   "cell_type": "code",
   "execution_count": 21,
   "metadata": {
    "collapsed": false
   },
   "outputs": [
    {
     "name": "stdout",
     "output_type": "stream",
     "text": [
      "input csv: /Users/zhaowenhao/UdacitySelfDrivingCar/P3data/data/driving_log.csv\n",
      "output csv: /Users/zhaowenhao/UdacitySelfDrivingCar/P3data/data/driving_log_modified.csv\n",
      "                                   center  \\\n",
      "0  IMG/center_2016_12_01_13_30_48_287.jpg   \n",
      "1  IMG/center_2016_12_01_13_30_48_404.jpg   \n",
      "2  IMG/center_2016_12_01_13_31_12_937.jpg   \n",
      "\n",
      "                                    left  \\\n",
      "0   IMG/left_2016_12_01_13_30_48_287.jpg   \n",
      "1   IMG/left_2016_12_01_13_30_48_404.jpg   \n",
      "2   IMG/left_2016_12_01_13_31_12_937.jpg   \n",
      "\n",
      "                                    right  steering  throttle  brake  \\\n",
      "0   IMG/right_2016_12_01_13_30_48_287.jpg       0.0       0.0    0.0   \n",
      "1   IMG/right_2016_12_01_13_30_48_404.jpg       0.0       0.0    0.0   \n",
      "2   IMG/right_2016_12_01_13_31_12_937.jpg       0.0       0.0    0.0   \n",
      "\n",
      "       speed  \n",
      "0  22.148290  \n",
      "1  21.879630  \n",
      "2   1.453011  \n",
      "\n",
      "                               center                              left  \\\n",
      "0  center_2016_12_01_13_30_48_287.jpg  left_2016_12_01_13_30_48_287.jpg   \n",
      "1  center_2016_12_01_13_30_48_404.jpg  left_2016_12_01_13_30_48_404.jpg   \n",
      "2  center_2016_12_01_13_31_12_937.jpg  left_2016_12_01_13_31_12_937.jpg   \n",
      "\n",
      "                               right  steering  throttle  brake      speed  \n",
      "0  right_2016_12_01_13_30_48_287.jpg       0.0       0.0    0.0  22.148290  \n",
      "1  right_2016_12_01_13_30_48_404.jpg       0.0       0.0    0.0  21.879630  \n",
      "2  right_2016_12_01_13_31_12_937.jpg       0.0       0.0    0.0   1.453011  \n"
     ]
    }
   ],
   "source": [
    "import pandas as pd\n",
    "\n",
    "LOG_PATH_LIST = [r\"/Users/zhaowenhao/UdacitySelfDrivingCar/P3data/data/driving_log.csv\"]\n",
    "\n",
    "\n",
    "\n",
    "def log_processing(csv_path_list):\n",
    "    for csv_path in csv_path_list:\n",
    "        original_file_name = csv_path.split(\"/\")[-1].split(\".\")[0]\n",
    "        original_file_path = \"/\".join(csv_path.split(\"/\")[:-1])\n",
    "        print(\"input csv: \" + csv_path)\n",
    "        modifed_file_path = original_file_path + \"/\" + original_file_name + \"_modified.csv\" \n",
    "        #modifed_file = open(modifed_file_path, \"w\")      \n",
    "        print(\"output csv:\", modifed_file_path)\n",
    "        \n",
    "        df = pd.read_csv(csv_path)\n",
    "        print(df.head(3))\n",
    "        df[\"center\"] = df[\"center\"].str.split(\"/\").str.get(-1)\n",
    "        df[\"left\"] = df[\"left\"].str.split(\"/\").str.get(-1)\n",
    "        df[\"right\"] = df[\"right\"].str.split(\"/\").str.get(-1)\n",
    "        print()\n",
    "        print(df.head(3))\n",
    "        df.to_csv(modifed_file_path)\n",
    "\n",
    "                    \n",
    "\n",
    "log_processing(LOG_PATH_LIST)"
   ]
  },
  {
   "cell_type": "code",
   "execution_count": null,
   "metadata": {
    "collapsed": true
   },
   "outputs": [],
   "source": []
  }
 ],
 "metadata": {
  "anaconda-cloud": {},
  "kernelspec": {
   "display_name": "Python 3",
   "language": "python",
   "name": "python3"
  },
  "language_info": {
   "codemirror_mode": {
    "name": "ipython",
    "version": 3
   },
   "file_extension": ".py",
   "mimetype": "text/x-python",
   "name": "python",
   "nbconvert_exporter": "python",
   "pygments_lexer": "ipython3",
   "version": "3.5.2"
  }
 },
 "nbformat": 4,
 "nbformat_minor": 1
}
