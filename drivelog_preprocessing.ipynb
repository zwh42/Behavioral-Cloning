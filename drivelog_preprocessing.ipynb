{
 "cells": [
  {
   "cell_type": "code",
   "execution_count": 50,
   "metadata": {
    "collapsed": false
   },
   "outputs": [],
   "source": [
    "import pandas as pd\n",
    "\n",
    "LOG_PATH_LIST = [r\"C:\\Localdata\\data\\behavioralclone\\train_data_4_test\\\\\"]\n",
    "\n",
    "\n",
    "\n",
    "def log_processing(csv_path_list):\n",
    "    for csv_path in csv_path_list:\n",
    "        original_file_name = csv_path.split(\"/\")[-1].split(\".\")[0]\n",
    "        original_file_path = \"/\".join(csv_path.split(\"/\")[:-1])\n",
    "        print(\"input csv: \" + csv_path)\n",
    "        modifed_file_path = original_file_path + \"/\" + original_file_name + \"_modified.csv\" \n",
    "        #modifed_file = open(modifed_file_path, \"w\")      \n",
    "        print(\"output csv:\", modifed_file_path)\n",
    "        \n",
    "        df = pd.read_csv(csv_path)\n",
    "        print(df.head(3))\n",
    "        df[\"center\"] = df[\"center\"].str.split(\"/\").str.get(-1)\n",
    "        df[\"left\"] = df[\"left\"].str.split(\"/\").str.get(-1)\n",
    "        df[\"right\"] = df[\"right\"].str.split(\"/\").str.get(-1)\n",
    "        print()\n",
    "        print(df.head(3))\n",
    "        df.to_csv(modifed_file_path)\n",
    "\n",
    "                    \n",
    "\n",
    "#log_processing(LOG_PATH_LIST)"
   ]
  },
  {
   "cell_type": "code",
   "execution_count": 56,
   "metadata": {
    "collapsed": false
   },
   "outputs": [
    {
     "name": "stdout",
     "output_type": "stream",
     "text": [
      "image_path:  C:\\Localdata\\data\\behavioralclone\\train_data_4_test\\\\train_data\\IMG\n",
      "log_path:  C:\\Localdata\\data\\behavioralclone\\train_data_4_test\\driving_log_modified.csv\n"
     ]
    }
   ],
   "source": [
    "import re\n",
    "import csv\n",
    "import os\n",
    "\n",
    "\n",
    "def sample_extracion(log_path_list, min_angle_tolerance=-1):\n",
    "    for csv_path in log_path_list:       \n",
    "        os.chdir(csv_path)\n",
    "        \n",
    "        \n",
    "        new_image_path = os.path.join(csv_path, \"train_data\", \"IMG\")\n",
    "        print(\"image_path: \", new_image_path)\n",
    "        \n",
    "        os.umask(0)\n",
    "        if not os.path.isdir(new_image_path):\n",
    "            os.makedirs(new_image_path, mode=0o777)\n",
    "        \n",
    "        os.chmod(new_image_path,0o666)\n",
    "        modifed_samples = [] \n",
    "        \n",
    "        with open(os.path.join(csv_path, \"driving_log.csv\")) as csv_file:\n",
    "            next(csv_file, None) ## skip the header\n",
    "            reader = csv.reader(csv_file)\n",
    "            for line in reader:\n",
    "                steering_angle = float(line[3])                \n",
    "                if abs(steering_angle) >= min_angle_tolerance:\n",
    "                    modifed_samples.append(line)\n",
    "                    \n",
    "            \n",
    "            new_log_path = os.path.join(os.getcwd(), \"driving_log_modified.csv\")\n",
    "            print(\"log_path: \", new_log_path)\n",
    "            f = open(new_log_path, \"w\")\n",
    "            for item in modifed_samples:\n",
    "                f.write(\"%s\\n\" % item)\n",
    "            \n",
    "                \n",
    "            \n",
    "            \n",
    "sample_extracion(LOG_PATH_LIST)    "
   ]
  },
  {
   "cell_type": "code",
   "execution_count": null,
   "metadata": {
    "collapsed": true
   },
   "outputs": [],
   "source": []
  }
 ],
 "metadata": {
  "anaconda-cloud": {},
  "kernelspec": {
   "display_name": "Python [default]",
   "language": "python",
   "name": "python3"
  },
  "language_info": {
   "codemirror_mode": {
    "name": "ipython",
    "version": 3
   },
   "file_extension": ".py",
   "mimetype": "text/x-python",
   "name": "python",
   "nbconvert_exporter": "python",
   "pygments_lexer": "ipython3",
   "version": "3.5.2"
  }
 },
 "nbformat": 4,
 "nbformat_minor": 1
}
