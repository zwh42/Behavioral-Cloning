{
 "cells": [
  {
   "cell_type": "markdown",
   "metadata": {},
   "source": [
    "### P3 Flow Setup"
   ]
  },
  {
   "cell_type": "markdown",
   "metadata": {},
   "source": [
    "## read CSV"
   ]
  },
  {
   "cell_type": "code",
   "execution_count": 21,
   "metadata": {
    "collapsed": false
   },
   "outputs": [
    {
     "name": "stdout",
     "output_type": "stream",
     "text": [
      "total sample count:  8036\n",
      "train sample count: 5142  validation sample count:  1286 test sample count:  1608\n",
      "['IMG/center_2016_12_01_13_34_44_733.jpg', ' IMG/left_2016_12_01_13_34_44_733.jpg', ' IMG/right_2016_12_01_13_34_44_733.jpg', ' 0.01391724', ' 0.9855326', ' 0', ' 30.18647']\n"
     ]
    }
   ],
   "source": [
    "import csv\n",
    "import cv2\n",
    "import numpy as np\n",
    "import sklearn\n",
    "from sklearn.model_selection import train_test_split\n",
    "\n",
    "\n",
    "CSV_PATH = \"./data/driving_log.csv\"\n",
    "\n",
    "samples = []\n",
    "with open(CSV_PATH) as csvfile:\n",
    "    next(csvfile, None)\n",
    "    reader = csv.reader(csvfile)\n",
    "    for line in reader:\n",
    "        samples.append(line)\n",
    "    \n",
    "print(\"total sample count: \", len(samples))\n",
    "\n",
    "train_validation_samples, test_samples = train_test_split(samples, test_size = 0.2, random_state = 42)\n",
    "\n",
    "train_samples, validation_samples = train_test_split(train_validation_samples, test_size = 0.2, random_state = 42)\n",
    "\n",
    "print(\"train sample count:\", len(train_samples), \" validation sample count: \", len(validation_samples), \"test sample count: \", len(test_samples))\n",
    "\n",
    "print(train_samples[0])"
   ]
  },
  {
   "cell_type": "code",
   "execution_count": 22,
   "metadata": {
    "collapsed": false
   },
   "outputs": [],
   "source": [
    "from sklearn.utils import shuffle\n",
    "\n",
    "IMG_PATH_PREFIX = \"./data/IMG/\"\n",
    "\n",
    "def generator(samples, batch_size=64):\n",
    "    num_samples = len(samples)\n",
    "    while 1: # Loop forever so the generator never terminates\n",
    "        shuffle(samples)\n",
    "        for offset in range(0, num_samples, batch_size):\n",
    "            batch_samples = samples[offset:offset+batch_size]\n",
    "\n",
    "            images = []\n",
    "            angles = []\n",
    "            for batch_sample in batch_samples:\n",
    "                name = IMG_PATH_PREFIX  + batch_sample[0].split('/')[-1]\n",
    "                \n",
    "                center_image = cv2.imread(name)\n",
    "                center_angle = float(batch_sample[3])                \n",
    "\n",
    "                images.append(center_image)\n",
    "                angles.append(center_angle)\n",
    "\n",
    "            # trim image to only see section with road\n",
    "            X_train = np.array(images)\n",
    "            y_train = np.array(angles)\n",
    "            \n",
    "            #X_train = np.expand_dims(X_train, axis=0)\n",
    "            #y_train = np.expand_dims(y_train, axis=1)\n",
    "            #print(\"X_train shape: \", X_train.shape, \" y_train shape:\", y_train.shape)\n",
    "            #print(\"X train: \", X_train)\n",
    "            yield shuffle(X_train, y_train)\n",
    "\n",
    "\n",
    "train_generator = generator(train_samples, batch_size = 32)\n",
    "validation_generator = generator(validation_samples, batch_size = 32)\n",
    "\n",
    "test_generator = generator(test_samples, batch_size = 32)\n",
    "            \n",
    "#print(\"generator output: \\n\", next(train_generator))\n",
    "    "
   ]
  },
  {
   "cell_type": "code",
   "execution_count": 23,
   "metadata": {
    "collapsed": false
   },
   "outputs": [
    {
     "name": "stdout",
     "output_type": "stream",
     "text": [
      "____________________________________________________________________________________________________\n",
      "Layer (type)                     Output Shape          Param #     Connected to                     \n",
      "====================================================================================================\n",
      "cropping2d_11 (Cropping2D)       (None, 90, 316, 3)    0           cropping2d_input_11[0][0]        \n",
      "____________________________________________________________________________________________________\n",
      "lambda_8 (Lambda)                (None, 90, 316, 3)    0           cropping2d_11[0][0]              \n",
      "____________________________________________________________________________________________________\n",
      "convolution2d_4 (Convolution2D)  (None, 88, 314, 32)   896         lambda_8[0][0]                   \n",
      "____________________________________________________________________________________________________\n",
      "maxpooling2d_3 (MaxPooling2D)    (None, 44, 157, 32)   0           convolution2d_4[0][0]            \n",
      "____________________________________________________________________________________________________\n",
      "dropout_3 (Dropout)              (None, 44, 157, 32)   0           maxpooling2d_3[0][0]             \n",
      "____________________________________________________________________________________________________\n",
      "activation_3 (Activation)        (None, 44, 157, 32)   0           dropout_3[0][0]                  \n",
      "____________________________________________________________________________________________________\n",
      "convolution2d_5 (Convolution2D)  (None, 40, 153, 32)   25632       activation_3[0][0]               \n",
      "____________________________________________________________________________________________________\n",
      "maxpooling2d_4 (MaxPooling2D)    (None, 20, 76, 32)    0           convolution2d_5[0][0]            \n",
      "____________________________________________________________________________________________________\n",
      "dropout_4 (Dropout)              (None, 20, 76, 32)    0           maxpooling2d_4[0][0]             \n",
      "____________________________________________________________________________________________________\n",
      "activation_4 (Activation)        (None, 20, 76, 32)    0           dropout_4[0][0]                  \n",
      "____________________________________________________________________________________________________\n",
      "flatten_8 (Flatten)              (None, 48640)         0           activation_4[0][0]               \n",
      "____________________________________________________________________________________________________\n",
      "dense_9 (Dense)                  (None, 1)             48641       flatten_8[0][0]                  \n",
      "====================================================================================================\n",
      "Total params: 75,169\n",
      "Trainable params: 75,169\n",
      "Non-trainable params: 0\n",
      "____________________________________________________________________________________________________\n",
      "None\n",
      "Epoch 1/3\n",
      "5142/5142 [==============================] - 408s - loss: 0.0838 - val_loss: 0.0166\n",
      "Epoch 2/3\n",
      "5142/5142 [==============================] - 410s - loss: 0.0169 - val_loss: 0.0166\n",
      "Epoch 3/3\n",
      "5142/5142 [==============================] - 406s - loss: 0.0169 - val_loss: 0.0166\n"
     ]
    },
    {
     "ename": "IndexError",
     "evalue": "invalid index to scalar variable.",
     "output_type": "error",
     "traceback": [
      "\u001b[0;31m---------------------------------------------------------------------------\u001b[0m",
      "\u001b[0;31mIndexError\u001b[0m                                Traceback (most recent call last)",
      "\u001b[0;32m<ipython-input-23-a9fdca08da6f>\u001b[0m in \u001b[0;36m<module>\u001b[0;34m()\u001b[0m\n\u001b[1;32m     59\u001b[0m \u001b[0mscore\u001b[0m \u001b[1;33m=\u001b[0m \u001b[0mmodel\u001b[0m\u001b[1;33m.\u001b[0m\u001b[0mevaluate_generator\u001b[0m\u001b[1;33m(\u001b[0m\u001b[0mtest_generator\u001b[0m\u001b[1;33m,\u001b[0m \u001b[1;36m1500\u001b[0m\u001b[1;33m,\u001b[0m \u001b[0mmax_q_size\u001b[0m\u001b[1;33m=\u001b[0m\u001b[1;36m10\u001b[0m\u001b[1;33m,\u001b[0m \u001b[0mnb_worker\u001b[0m\u001b[1;33m=\u001b[0m\u001b[1;36m1\u001b[0m\u001b[1;33m,\u001b[0m \u001b[0mpickle_safe\u001b[0m\u001b[1;33m=\u001b[0m\u001b[1;32mFalse\u001b[0m\u001b[1;33m)\u001b[0m\u001b[1;33m\u001b[0m\u001b[0m\n\u001b[1;32m     60\u001b[0m \u001b[1;33m\u001b[0m\u001b[0m\n\u001b[0;32m---> 61\u001b[0;31m \u001b[0mprint\u001b[0m\u001b[1;33m(\u001b[0m\u001b[1;34m'Test score:'\u001b[0m\u001b[1;33m,\u001b[0m \u001b[0mscore\u001b[0m\u001b[1;33m[\u001b[0m\u001b[1;36m0\u001b[0m\u001b[1;33m]\u001b[0m\u001b[1;33m)\u001b[0m\u001b[1;33m\u001b[0m\u001b[0m\n\u001b[0m\u001b[1;32m     62\u001b[0m \u001b[0mprint\u001b[0m\u001b[1;33m(\u001b[0m\u001b[1;34m'Test accuracy:'\u001b[0m\u001b[1;33m,\u001b[0m \u001b[0mscore\u001b[0m\u001b[1;33m[\u001b[0m\u001b[1;36m1\u001b[0m\u001b[1;33m]\u001b[0m\u001b[1;33m)\u001b[0m\u001b[1;33m\u001b[0m\u001b[0m\n",
      "\u001b[0;31mIndexError\u001b[0m: invalid index to scalar variable."
     ]
    }
   ],
   "source": [
    "from keras.models import Sequential\n",
    "from keras.layers import Dropout\n",
    "from keras.layers.convolutional import Cropping2D, Convolution2D, MaxPooling2D\n",
    "from keras.layers.core import Lambda, Dense, Activation, Flatten\n",
    "\n",
    "image_color_channel = 3\n",
    "image_height = 160\n",
    "image_width = 320\n",
    "\n",
    "\n",
    "\n",
    "model = Sequential()\n",
    "\n",
    "#cropping layer\n",
    "crop_top = 50\n",
    "crop_bottom = 20\n",
    "crop_left = 2\n",
    "crop_right = 2\n",
    "model.add(Cropping2D(cropping=((crop_top,crop_bottom), (crop_left,crop_right)), input_shape=(160,320,3),  dim_ordering='tf'))\n",
    "\n",
    "#lambda layer: to normalize images to [-0.5, +0.5] \n",
    "model.add(Lambda(lambda x: (x / 255.0) - 0.5, input_shape=(160,320,3)))\n",
    "\n",
    "\n",
    "#conv layer\n",
    "n_filters = 32\n",
    "model.add(Convolution2D(n_filters, 3, 3, border_mode = \"valid\"))\n",
    "\n",
    "#pooling \n",
    "model.add(MaxPooling2D(pool_size=(2,2)))\n",
    "\n",
    "#drop out\n",
    "model.add(Dropout(0.5))\n",
    "\n",
    "#relu\n",
    "model.add(Activation(\"relu\"))\n",
    "\n",
    "#conv layer\n",
    "model.add(Convolution2D(32, 5, 5, border_mode = \"valid\"))\n",
    "\n",
    "#pooling \n",
    "model.add(MaxPooling2D(pool_size=(2,2)))\n",
    "\n",
    "#drop out\n",
    "model.add(Dropout(0.5))\n",
    "\n",
    "#relu\n",
    "model.add(Activation(\"relu\"))\n",
    "\n",
    "\n",
    "\n",
    "model.add(Flatten())\n",
    "model.add(Dense(1))\n",
    "\n",
    "model.compile(loss = \"mse\", optimizer=\"adam\")\n",
    "print(model.summary())\n",
    "model.fit_generator(train_generator, samples_per_epoch= len(train_samples), validation_data=validation_generator, nb_val_samples=len(validation_samples), nb_epoch=3)\n",
    "\n",
    "score = model.evaluate_generator(test_generator, 1500, max_q_size=10, nb_worker=1, pickle_safe=False)\n",
    "\n",
    "print('Test score:', score[0])\n",
    "print('Test accuracy:', score[1])\n"
   ]
  },
  {
   "cell_type": "code",
   "execution_count": 24,
   "metadata": {
    "collapsed": false
   },
   "outputs": [
    {
     "name": "stdout",
     "output_type": "stream",
     "text": [
      "0.0150724655622\n"
     ]
    }
   ],
   "source": [
    "print(score)\n"
   ]
  },
  {
   "cell_type": "code",
   "execution_count": 25,
   "metadata": {
    "collapsed": true
   },
   "outputs": [],
   "source": [
    "model.save('model.h5')"
   ]
  },
  {
   "cell_type": "code",
   "execution_count": null,
   "metadata": {
    "collapsed": true
   },
   "outputs": [],
   "source": []
  }
 ],
 "metadata": {
  "anaconda-cloud": {},
  "kernelspec": {
   "display_name": "Python [conda env:py3]",
   "language": "python",
   "name": "conda-env-py3-py"
  },
  "language_info": {
   "codemirror_mode": {
    "name": "ipython",
    "version": 3
   },
   "file_extension": ".py",
   "mimetype": "text/x-python",
   "name": "python",
   "nbconvert_exporter": "python",
   "pygments_lexer": "ipython3",
   "version": "3.5.2"
  }
 },
 "nbformat": 4,
 "nbformat_minor": 1
}
